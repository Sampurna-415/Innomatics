{
 "cells": [
  {
   "cell_type": "markdown",
   "id": "49cd0385-72d5-4747-81d9-1c6adcc758a5",
   "metadata": {},
   "source": [
    "## Query1"
   ]
  },
  {
   "cell_type": "markdown",
   "id": "f0a67d2b-f9c1-4f3c-ad95-4f4111cad7da",
   "metadata": {},
   "source": [
    "### List\n",
    "- List is represents in square braces[]\n",
    "- List is mutable(i.e it changes the value)\n",
    "- List is in ordered form.\n",
    "- List follows indexed.\n",
    "- List allows duplicate vaules.\n",
    "### Tuple\n",
    "- Tuple is represents in parentheces()\n",
    "- Tuple is immutable(i.e it can not change the value)\n",
    "- Tuple is in ordered form.\n",
    "- Tuple follows indexed.\n",
    "- Tuple allows duplicate vaules.\n",
    "#### The main difference between list and tuple is ,List is \"Mutable\" whereas Tuple is \"immutable\"\n"
   ]
  },
  {
   "cell_type": "markdown",
   "id": "8709cebd-3a0a-421b-aa25-51d5a5250d78",
   "metadata": {},
   "source": [
    "## Query2"
   ]
  },
  {
   "cell_type": "code",
   "execution_count": 2,
   "id": "9fd3dfae-e3fa-49f9-8c7b-3adb7b3430cd",
   "metadata": {},
   "outputs": [
    {
     "name": "stdout",
     "output_type": "stream",
     "text": [
      "[1, 2, 3, 4, 5]\n"
     ]
    }
   ],
   "source": [
    "list = [1,2,3,4,5]\n",
    "print(l)"
   ]
  },
  {
   "cell_type": "markdown",
   "id": "6f16e196-9eb1-4c38-be22-444390b9f821",
   "metadata": {},
   "source": [
    "## Query3"
   ]
  },
  {
   "cell_type": "code",
   "execution_count": 4,
   "id": "6d5fb054-8ac9-4fbb-a8a0-32a333ef664f",
   "metadata": {},
   "outputs": [
    {
     "name": "stdout",
     "output_type": "stream",
     "text": [
      "[10, 20, 30, 40, 50]\n",
      "40\n"
     ]
    }
   ],
   "source": [
    "list2 = [10, 20, 30, 40, 50]\n",
    "print(list2)\n",
    "print(list2[3])"
   ]
  },
  {
   "cell_type": "markdown",
   "id": "b552c6a5-50a0-4e53-8da1-1291b3be21ef",
   "metadata": {},
   "source": [
    "## Query4"
   ]
  },
  {
   "cell_type": "code",
   "execution_count": 133,
   "id": "4f7105c6-0f34-46fb-8f90-c12e2e2bc624",
   "metadata": {},
   "outputs": [
    {
     "name": "stdout",
     "output_type": "stream",
     "text": [
      "[1, 2, 10, 4, 5]\n"
     ]
    }
   ],
   "source": [
    "l = [1, 2, 3, 4, 5]\n",
    "l[2] = 10\n",
    "print(l)"
   ]
  },
  {
   "cell_type": "markdown",
   "id": "2d2489f2-73ac-401c-929e-5a770ec380a5",
   "metadata": {},
   "source": [
    "## Query5"
   ]
  },
  {
   "cell_type": "code",
   "execution_count": 5,
   "id": "a5d14908-00e5-4b36-a730-ae7f5e937684",
   "metadata": {},
   "outputs": [
    {
     "name": "stdout",
     "output_type": "stream",
     "text": [
      "[1, 2, 3, 4, 5]\n"
     ]
    }
   ],
   "source": [
    "l3 = [1, 2, 3, 4, 5]\n",
    "print(l3)"
   ]
  },
  {
   "cell_type": "code",
   "execution_count": 6,
   "id": "a09c1aba-6e3e-462c-b350-aac609106fa4",
   "metadata": {},
   "outputs": [
    {
     "name": "stdout",
     "output_type": "stream",
     "text": [
      "[1, 2, 3, 4, 5, 6]\n"
     ]
    }
   ],
   "source": [
    "l3.append(6)\n",
    "print(l3)"
   ]
  },
  {
   "cell_type": "markdown",
   "id": "3fdc3c3f-46fc-4d0f-9e54-46daf64fbc70",
   "metadata": {},
   "source": [
    "## Query6"
   ]
  },
  {
   "cell_type": "code",
   "execution_count": 10,
   "id": "2598fabd-9a72-4c96-9a14-c179dbf1be6e",
   "metadata": {},
   "outputs": [
    {
     "name": "stdout",
     "output_type": "stream",
     "text": [
      "[1, 2, 3] [4, 5, 6]\n",
      "[1, 2, 3, 4, 5, 6]\n"
     ]
    }
   ],
   "source": [
    "l4 = [1,2,3]\n",
    "l5 = [4,5,6]\n",
    "print(l4,l5)\n",
    "print(l4 + l5)"
   ]
  },
  {
   "cell_type": "markdown",
   "id": "40fa61fb-1c80-49c9-ba23-2e3abed39dde",
   "metadata": {},
   "source": [
    "## Query7"
   ]
  },
  {
   "cell_type": "code",
   "execution_count": 11,
   "id": "37cda87b-975a-40a4-9a0f-93fee9d7fbbc",
   "metadata": {},
   "outputs": [
    {
     "name": "stdout",
     "output_type": "stream",
     "text": [
      "('apple', 'banana', 'cherry')\n"
     ]
    }
   ],
   "source": [
    "tup1 = (\"apple\", \"banana\",  \"cherry\")\n",
    "print(tup1)\n"
   ]
  },
  {
   "cell_type": "markdown",
   "id": "020abdf4-bab2-4b05-a9f6-0d9635488a87",
   "metadata": {},
   "source": [
    "## Query8"
   ]
  },
  {
   "cell_type": "code",
   "execution_count": 12,
   "id": "0e6c8c38-5d02-4d33-94d3-02c7be657f0f",
   "metadata": {},
   "outputs": [
    {
     "name": "stdout",
     "output_type": "stream",
     "text": [
      "apple\n"
     ]
    }
   ],
   "source": [
    "print(tup1[0])"
   ]
  },
  {
   "cell_type": "markdown",
   "id": "96527679-5372-4d19-8488-044863da54a0",
   "metadata": {},
   "source": [
    "## Query9"
   ]
  },
  {
   "cell_type": "code",
   "execution_count": 18,
   "id": "619d4600-7ebd-4023-8758-80ebc8fc0af4",
   "metadata": {},
   "outputs": [
    {
     "name": "stdout",
     "output_type": "stream",
     "text": [
      "[1, 2, 3, 4, 5]\n"
     ]
    }
   ],
   "source": [
    "l6 = [1, 2, 3, 4, 5]\n",
    "print(l6)"
   ]
  },
  {
   "cell_type": "code",
   "execution_count": 19,
   "id": "24baaf6f-d4b6-4be0-9104-89b607a81112",
   "metadata": {},
   "outputs": [
    {
     "data": {
      "text/plain": [
       "True"
      ]
     },
     "execution_count": 19,
     "metadata": {},
     "output_type": "execute_result"
    }
   ],
   "source": [
    "4 in l6"
   ]
  },
  {
   "cell_type": "markdown",
   "id": "ece4bd5a-8100-4034-8c9d-38e641b38311",
   "metadata": {},
   "source": [
    "## Query10"
   ]
  },
  {
   "cell_type": "code",
   "execution_count": 23,
   "id": "e949a8d9-f758-45b4-93f4-ef19d9e98086",
   "metadata": {},
   "outputs": [
    {
     "name": "stdout",
     "output_type": "stream",
     "text": [
      "5\n"
     ]
    }
   ],
   "source": [
    "l7 = [10, 20, 30, 40, 50]\n",
    "print(len(l7))"
   ]
  },
  {
   "cell_type": "markdown",
   "id": "3fff9e70-221d-4ad2-8be1-b1e088cc4eb6",
   "metadata": {},
   "source": [
    "## Query11"
   ]
  },
  {
   "cell_type": "code",
   "execution_count": 24,
   "id": "b517d6c0-2aa2-4cd3-aabf-a01c23cfb163",
   "metadata": {},
   "outputs": [
    {
     "name": "stdout",
     "output_type": "stream",
     "text": [
      "[20, 30, 40]\n"
     ]
    }
   ],
   "source": [
    "l8 = [10, 20, 30, 40, 50,[20,30,40]]\n",
    "print(l8[5])"
   ]
  },
  {
   "cell_type": "markdown",
   "id": "004c5062-3c46-4a53-9ec0-46aaf7322eee",
   "metadata": {},
   "source": [
    "## Query12"
   ]
  },
  {
   "cell_type": "code",
   "execution_count": 27,
   "id": "9a6809bb-1367-4728-b8e2-2c82da440ee1",
   "metadata": {},
   "outputs": [
    {
     "name": "stdout",
     "output_type": "stream",
     "text": [
      "(10, 20, 30)\n",
      "10\n",
      "20\n",
      "30\n"
     ]
    }
   ],
   "source": [
    "# Unpacking\n",
    "tup2 = (10,20,30)\n",
    "print(tup2)\n",
    "i,j,k = tup2\n",
    "print(i,j,k, sep = \"\\n\")"
   ]
  },
  {
   "cell_type": "markdown",
   "id": "834f1a72-56ae-4011-bd61-e12409354f19",
   "metadata": {},
   "source": [
    "## Query13"
   ]
  },
  {
   "cell_type": "code",
   "execution_count": 31,
   "id": "62ee976b-d6d4-4601-bb65-0b24719fdfec",
   "metadata": {},
   "outputs": [
    {
     "name": "stdout",
     "output_type": "stream",
     "text": [
      "[1, 2, 2, 3, 4, 2, 5]\n",
      "3\n"
     ]
    }
   ],
   "source": [
    "l9 = [1, 2, 2, 3, 4, 2, 5]\n",
    "print(l9)\n",
    "print(l9.count(2))"
   ]
  },
  {
   "cell_type": "markdown",
   "id": "e1e33e47-3ecc-46e2-959d-09b7b7052fdd",
   "metadata": {},
   "source": [
    "## Query14"
   ]
  },
  {
   "cell_type": "code",
   "execution_count": 33,
   "id": "82600aa8-315a-4005-b64b-d923ee49908a",
   "metadata": {},
   "outputs": [
    {
     "name": "stdout",
     "output_type": "stream",
     "text": [
      "[1, 2, 3, 4, 5]\n",
      "5\n"
     ]
    }
   ],
   "source": [
    "l10 = [1, 2, 3, 4, 5]\n",
    "print(l10)\n",
    "print(max(l10))"
   ]
  },
  {
   "cell_type": "markdown",
   "id": "462f3871-cf1d-4139-b657-e1af7011a590",
   "metadata": {},
   "source": [
    "## Query15"
   ]
  },
  {
   "cell_type": "code",
   "execution_count": 107,
   "id": "8253053c-9104-4eb3-a950-2bf017ba8039",
   "metadata": {},
   "outputs": [
    {
     "name": "stdout",
     "output_type": "stream",
     "text": [
      "[1, 2, 3, 4, 5]\n"
     ]
    }
   ],
   "source": [
    "l16 = [1,2,3,4,5]\n",
    "print(l16)"
   ]
  },
  {
   "cell_type": "code",
   "execution_count": 111,
   "id": "c2c79d38-bcbd-44a6-98c3-4ffe9bc3884b",
   "metadata": {},
   "outputs": [
    {
     "name": "stdout",
     "output_type": "stream",
     "text": [
      "(1, 2, 3, 4, 5)\n"
     ]
    }
   ],
   "source": [
    "t = tuple(l16)\n",
    "print(t)"
   ]
  },
  {
   "cell_type": "markdown",
   "id": "93194162-cedf-4e26-8df7-c51b482a12dc",
   "metadata": {},
   "source": [
    "## Query16"
   ]
  },
  {
   "cell_type": "code",
   "execution_count": 36,
   "id": "ef5838b9-5780-4f99-9a36-2d0083acee9c",
   "metadata": {},
   "outputs": [
    {
     "name": "stdout",
     "output_type": "stream",
     "text": [
      "[1, 2, 3]\n",
      "[1, 2, 3, 4, 5, 6]\n"
     ]
    }
   ],
   "source": [
    "l11 = [1,2,3]\n",
    "print(l11)\n",
    "l11.extend([4,5,6])\n",
    "print(l11)"
   ]
  },
  {
   "cell_type": "markdown",
   "id": "082b93a2-9bc9-457b-a705-0e3b36e8576b",
   "metadata": {},
   "source": [
    "## Query17"
   ]
  },
  {
   "cell_type": "code",
   "execution_count": 38,
   "id": "8c788fc9-c749-4eec-8e11-6300086716bc",
   "metadata": {},
   "outputs": [
    {
     "name": "stdout",
     "output_type": "stream",
     "text": [
      "[1, 2, 3, 4, 5]\n",
      "[5, 4, 3, 2, 1]\n"
     ]
    }
   ],
   "source": [
    "l12 = [1,2,3,4,5]\n",
    "print(l12)\n",
    "print(l12[::-1])"
   ]
  },
  {
   "cell_type": "markdown",
   "id": "8569bac3-085f-46dc-a958-65648fbf304a",
   "metadata": {},
   "source": [
    "## Query18"
   ]
  },
  {
   "cell_type": "code",
   "execution_count": 42,
   "id": "c5a92534-f61d-4d34-948b-9b202806ccc0",
   "metadata": {},
   "outputs": [
    {
     "name": "stdout",
     "output_type": "stream",
     "text": [
      "[[1, 2], [3, 4], [5, 6]]\n",
      "3\n"
     ]
    }
   ],
   "source": [
    "l13 = [[1, 2], [3, 4], [5, 6]]\n",
    "print(l13)\n",
    "print(l13[1][0])"
   ]
  },
  {
   "cell_type": "markdown",
   "id": "9a7aff07-96b2-4408-9b3b-6331d9c6c78e",
   "metadata": {},
   "source": [
    "## Query19"
   ]
  },
  {
   "cell_type": "code",
   "execution_count": 47,
   "id": "9048d285-702c-4ec3-a14a-c0ff92bacac3",
   "metadata": {},
   "outputs": [
    {
     "name": "stdout",
     "output_type": "stream",
     "text": [
      "[1, 2, 3, 4, 5]\n",
      "[1, 2, 3, 5]\n"
     ]
    }
   ],
   "source": [
    "l14 = [1, 2, 3, 4, 5]\n",
    "print(l14)\n",
    "l14.remove(4)\n",
    "print(l14)"
   ]
  },
  {
   "cell_type": "markdown",
   "id": "3ce722e6-b911-4724-8375-5d272cca8325",
   "metadata": {},
   "source": [
    "## Query20"
   ]
  },
  {
   "cell_type": "code",
   "execution_count": 132,
   "id": "78a34202-ea79-4fc7-b9fd-de6e6ff9743a",
   "metadata": {},
   "outputs": [
    {
     "name": "stdout",
     "output_type": "stream",
     "text": [
      "[1, 2, 3, 4, 5]\n"
     ]
    }
   ],
   "source": [
    "GFG_tuple = (1, 2, 3,4,5)\n",
    "GFG_list = [*GFG_tuple]\n",
    "print(GFG_list)"
   ]
  },
  {
   "cell_type": "markdown",
   "id": "15cf9753-a6b1-4a6a-aed8-239ac0b8d534",
   "metadata": {},
   "source": [
    "## Query21"
   ]
  },
  {
   "cell_type": "code",
   "execution_count": 52,
   "id": "af846377-acdb-4812-bacb-7e6ff532e921",
   "metadata": {},
   "outputs": [
    {
     "name": "stdout",
     "output_type": "stream",
     "text": [
      "[1, 2, 3, 4, 5]\n"
     ]
    },
    {
     "data": {
      "text/plain": [
       "2"
      ]
     },
     "execution_count": 52,
     "metadata": {},
     "output_type": "execute_result"
    }
   ],
   "source": [
    "l15 = [1, 2, 3, 4, 5]\n",
    "print(l15)\n",
    "l15.index(3)"
   ]
  },
  {
   "cell_type": "markdown",
   "id": "a59f406c-e610-4294-b0ad-baab00f9e1e1",
   "metadata": {},
   "source": [
    "## Query22"
   ]
  },
  {
   "cell_type": "code",
   "execution_count": 58,
   "id": "fbc4963e-e8d9-4614-a8b6-cbb68599793a",
   "metadata": {},
   "outputs": [
    {
     "ename": "SyntaxError",
     "evalue": "cannot assign to subscript here. Maybe you meant '==' instead of '='? (2008291055.py, line 3)",
     "output_type": "error",
     "traceback": [
      "\u001b[1;36m  Cell \u001b[1;32mIn[58], line 3\u001b[1;36m\u001b[0m\n\u001b[1;33m    print((t[0] = 0))\u001b[0m\n\u001b[1;37m           ^\u001b[0m\n\u001b[1;31mSyntaxError\u001b[0m\u001b[1;31m:\u001b[0m cannot assign to subscript here. Maybe you meant '==' instead of '='?\n"
     ]
    }
   ],
   "source": [
    "t = (1, 2, 3)\n",
    "print(t)\n",
    "print((t[0] = 0))\n",
    "## It fails Because here we use comperative operator instead of \"==\" we give \"=\""
   ]
  },
  {
   "cell_type": "markdown",
   "id": "7ee241d3-d2b7-45e9-a25b-c0b64f1bc27c",
   "metadata": {},
   "source": [
    "## Query23"
   ]
  },
  {
   "cell_type": "code",
   "execution_count": 66,
   "id": "0e86718a-279c-4eef-8050-58c5dcd7f161",
   "metadata": {},
   "outputs": [
    {
     "name": "stdout",
     "output_type": "stream",
     "text": [
      "['spider man', 'thor', 'hulk', 'iron man', 'captain america']\n"
     ]
    }
   ],
   "source": [
    "heroes = ['spider man','thor','hulk','iron man','captain america'] \n",
    "print(heroes)"
   ]
  },
  {
   "cell_type": "code",
   "execution_count": 67,
   "id": "64285978-5ec5-498e-a7fd-7879d4876725",
   "metadata": {},
   "outputs": [
    {
     "name": "stdout",
     "output_type": "stream",
     "text": [
      "5\n"
     ]
    }
   ],
   "source": [
    "## Length of list\n",
    "print(len(heroes))"
   ]
  },
  {
   "cell_type": "code",
   "execution_count": 68,
   "id": "ace6cf63-45ea-40de-a77c-4ff0055316a0",
   "metadata": {},
   "outputs": [
    {
     "name": "stdout",
     "output_type": "stream",
     "text": [
      "['spider man', 'thor', 'hulk', 'iron man', 'captain america', 'black panther']\n"
     ]
    }
   ],
   "source": [
    "## Add 'black panther' at the end of this list.\n",
    "heroes.insert( 5, \"black panther\")\n",
    "print(heroes)"
   ]
  },
  {
   "cell_type": "code",
   "execution_count": 69,
   "id": "e38d3394-9344-415d-9721-33dac0fbf308",
   "metadata": {},
   "outputs": [
    {
     "name": "stdout",
     "output_type": "stream",
     "text": [
      "['spider man', 'thor', 'hulk', 'iron man', 'captain america']\n"
     ]
    }
   ],
   "source": [
    "## Removing \"Black panther\" from the list\n",
    "heroes.remove(\"black panther\")\n",
    "print(heroes)"
   ]
  },
  {
   "cell_type": "code",
   "execution_count": 70,
   "id": "411b6a07-affb-42dd-968f-924f5dbf0d98",
   "metadata": {},
   "outputs": [
    {
     "name": "stdout",
     "output_type": "stream",
     "text": [
      "['spider man', 'thor', 'hulk', 'black panther', 'iron man', 'captain america']\n"
     ]
    }
   ],
   "source": [
    "## Adding \"black panther\" after \"hulk\"\n",
    "heroes.insert( 3, \"black panther\")\n",
    "print(heroes)"
   ]
  },
  {
   "cell_type": "code",
   "execution_count": 72,
   "id": "d84ab964-f04a-4683-8e14-7b0ea56981b6",
   "metadata": {},
   "outputs": [
    {
     "name": "stdout",
     "output_type": "stream",
     "text": [
      "['spider man', 'Dotor', 'Strange', 'black panther', 'iron man', 'captain america']\n"
     ]
    }
   ],
   "source": [
    "## Removing thor and hulk and replace with Doctor and Strange\n",
    "heroes[1:3] = [\"Dotor\",\"Strange\"]\n",
    "print(heroes)"
   ]
  },
  {
   "cell_type": "code",
   "execution_count": 73,
   "id": "0a970d23-f46d-4302-8afd-bee2b945393f",
   "metadata": {},
   "outputs": [
    {
     "name": "stdout",
     "output_type": "stream",
     "text": [
      "['Dotor', 'Strange', 'black panther', 'captain america', 'iron man', 'spider man']\n"
     ]
    }
   ],
   "source": [
    "## sorting\n",
    "heroes.sort()\n",
    "print(heroes)"
   ]
  },
  {
   "cell_type": "markdown",
   "id": "219b8e4f-fa0b-4ca0-8770-2e90a9b73faf",
   "metadata": {},
   "source": [
    "## Query24"
   ]
  },
  {
   "cell_type": "code",
   "execution_count": 78,
   "id": "b709773d-a41d-4abb-9c29-e270b0e768d9",
   "metadata": {},
   "outputs": [
    {
     "name": "stdout",
     "output_type": "stream",
     "text": [
      "[10, 20, [300, 400, [5000, 6000, 7000], 500], 30, 40]\n"
     ]
    }
   ],
   "source": [
    "list1 = [10, 20, [300, 400, [5000, 6000], 500], 30, 40]\n",
    "list1[2][2].append(7000)\n",
    "print(list1)"
   ]
  }
 ],
 "metadata": {
  "kernelspec": {
   "display_name": "Python 3 (ipykernel)",
   "language": "python",
   "name": "python3"
  },
  "language_info": {
   "codemirror_mode": {
    "name": "ipython",
    "version": 3
   },
   "file_extension": ".py",
   "mimetype": "text/x-python",
   "name": "python",
   "nbconvert_exporter": "python",
   "pygments_lexer": "ipython3",
   "version": "3.12.7"
  }
 },
 "nbformat": 4,
 "nbformat_minor": 5
}
