{
 "cells": [
  {
   "cell_type": "markdown",
   "id": "a79f479b-07cd-43e6-9f0d-0c2658c0e60c",
   "metadata": {},
   "source": [
    "#### Q1 What is a set in Python? How is it different from other data structures like lists or tuples? Explain with examples.\n"
   ]
  },
  {
   "cell_type": "markdown",
   "id": "da667328-6a09-42e5-88fa-631f1898a2aa",
   "metadata": {},
   "source": [
    "- A set is an unordered collection of unique, immutable elements.\n",
    "\n",
    "- It is enclosed in {}\n",
    "\n",
    "- unordered and non indexed\n",
    "\n",
    "- Set is mutable\n",
    "\n",
    "- The main difference between set and other data structures is that it doesn't allow duplicates"
   ]
  },
  {
   "cell_type": "code",
   "execution_count": 2,
   "id": "5e5d601c-9afd-4393-aadb-fed9bc866663",
   "metadata": {},
   "outputs": [
    {
     "name": "stdout",
     "output_type": "stream",
     "text": [
      "{1, 2, 3}\n"
     ]
    }
   ],
   "source": [
    "set1 = {1,2,3}\n",
    "print(set1)"
   ]
  },
  {
   "cell_type": "markdown",
   "id": "c34e7bea-4dd1-46fe-9eff-00ac67d8e1c1",
   "metadata": {},
   "source": [
    "#### Q2  What is the difference between set.pop() and list.pop()? Explain with examples.\n"
   ]
  },
  {
   "cell_type": "code",
   "execution_count": 3,
   "id": "d864ecbf-0bdb-4614-ac55-fec5cf7524b8",
   "metadata": {},
   "outputs": [
    {
     "name": "stdout",
     "output_type": "stream",
     "text": [
      "{2, 3, 4, 5}\n",
      "[1, 2, 3, 4]\n"
     ]
    }
   ],
   "source": [
    "set1 ={1,2,3,4,5}\n",
    "list1 = [1,2,3,4,5]\n",
    "set1.pop()\n",
    "list1.pop() # Default value in last element in the list\n",
    "print(set1,list1, sep = \"\\n\")"
   ]
  },
  {
   "cell_type": "markdown",
   "id": "02134dd0-7459-4557-9186-3eb8c02015e8",
   "metadata": {},
   "source": [
    "#### Q3 Given the set S = {1, 2, 3, 4, 5, 76, 32, 65}, apply all built-in set functions to this example.\n",
    "\n"
   ]
  },
  {
   "cell_type": "code",
   "execution_count": 5,
   "id": "5ac04cd0-aaa8-4db1-a715-7874c22ea4a1",
   "metadata": {},
   "outputs": [
    {
     "name": "stdout",
     "output_type": "stream",
     "text": [
      "['__and__', '__class__', '__class_getitem__', '__contains__', '__delattr__', '__dir__', '__doc__', '__eq__', '__format__', '__ge__', '__getattribute__', '__getstate__', '__gt__', '__hash__', '__iand__', '__init__', '__init_subclass__', '__ior__', '__isub__', '__iter__', '__ixor__', '__le__', '__len__', '__lt__', '__ne__', '__new__', '__or__', '__rand__', '__reduce__', '__reduce_ex__', '__repr__', '__ror__', '__rsub__', '__rxor__', '__setattr__', '__sizeof__', '__str__', '__sub__', '__subclasshook__', '__xor__', 'add', 'clear', 'copy', 'difference', 'difference_update', 'discard', 'intersection', 'intersection_update', 'isdisjoint', 'issubset', 'issuperset', 'pop', 'remove', 'symmetric_difference', 'symmetric_difference_update', 'union', 'update']\n"
     ]
    }
   ],
   "source": [
    "print(dir(set))"
   ]
  },
  {
   "cell_type": "code",
   "execution_count": 23,
   "id": "4047c3f1-147d-4a9d-8e02-176fbaa2102d",
   "metadata": {},
   "outputs": [
    {
     "name": "stdout",
     "output_type": "stream",
     "text": [
      "{32, 1, 2, 3, 4, 5, 65, 76}\n",
      "\n",
      "{32, 1, 2, 3, 4, 5, 65, 'add_element', 76}\n",
      "\n",
      "Copy:  {32, 1, 2, 3, 4, 5, 65, 'add_element', 76}\n",
      "\n",
      "difference:  {32, 65, 3, 5, 'add_element', 76}\n",
      "S after difference:  {32, 1, 2, 3, 4, 5, 65, 'add_element', 76}\n",
      "\n",
      "S after difference_update:  {32, 3, 5, 65, 'add_element', 76}\n",
      "\n",
      "discard:  {3, 5, 65, 'add_element', 76}\n",
      "\n",
      "intersection:  {1}\n",
      "S2 after intersection:  {1, 3, 67, 7, 42}\n",
      "\n",
      "S2 after intersection_update:  {1}\n",
      "\n",
      "True\n",
      "\n",
      "issubset:  True\n",
      "\n",
      "issuperset:  True\n",
      "\n",
      "pop:  3\n",
      "after pop:  {5, 65, 'add_element', 76}\n",
      "\n",
      "after remove:  {5, 65, 'add_element'}\n",
      "\n",
      "Symmetric difference: {1, 2, 5, 6}\n",
      "\n",
      "Set1 after symmetric_difference_update: {1, 2, 5, 6}\n",
      "\n",
      "Union of sets: {1, 2, 3, 4, 5, 6}\n",
      "\n",
      "Set1 after update: {1, 2, 3, 4, 5, 6}\n",
      "\n",
      "Set1:  set()\n"
     ]
    }
   ],
   "source": [
    "S = {1, 2, 3, 4, 5, 76, 32, 65}\n",
    "print(S,end='\\n\\n')\n",
    "\n",
    "S.add('add_element')\n",
    "print(S,end='\\n\\n')\n",
    "\n",
    "S_copy = S.copy()\n",
    "print('Copy: ',S_copy,end='\\n\\n')\n",
    "\n",
    "S1 = {1,2,56,12,4}\n",
    "print('difference: ',S.difference(S1))\n",
    "print('S after difference: ',S,end='\\n\\n')\n",
    "\n",
    "S.difference_update(S1)\n",
    "print('S after difference_update: ',S,end='\\n\\n')\n",
    "\n",
    "S.discard(32)\n",
    "print('discard: ',S,end='\\n\\n')\n",
    "\n",
    "\n",
    "S2={1,3,7,42,67}\n",
    "print('intersection: ',S2.intersection(S1))\n",
    "print('S2 after intersection: ',S2,end='\\n\\n')\n",
    "\n",
    "S2.intersection_update(S1)\n",
    "print('S2 after intersection_update: ',S2,end='\\n\\n')\n",
    "print(S.isdisjoint(S1),end='\\n\\n')\n",
    "\n",
    "\n",
    "S3 = {1,2}\n",
    "print('issubset: ',S2.issubset(S1),end='\\n\\n')\n",
    "\n",
    "print('issuperset: ',S1.issuperset(S2),end='\\n\\n')\n",
    "\n",
    "print('pop: ',S.pop())\n",
    "print('after pop: ',S,end='\\n\\n')\n",
    "\n",
    "S.remove(76)\n",
    "print('after remove: ',S,end='\\n\\n')\n",
    "\n",
    "\n",
    "set1 = {1, 2, 3, 4}\n",
    "set2 = {3, 4, 5, 6}\n",
    "result = set1.symmetric_difference(set2)\n",
    "print(\"Symmetric difference:\", result,end='\\n\\n')\n",
    "\n",
    "set1.symmetric_difference_update(set2)\n",
    "print(\"Set1 after symmetric_difference_update:\", set1,end='\\n\\n')\n",
    "\n",
    "result = set1.union(set2)\n",
    "print(\"Union of sets:\", result,end='\\n\\n')\n",
    "\n",
    "\n",
    "set1.update(set2)\n",
    "print(\"Set1 after update:\", set1,end='\\n\\n')\n",
    "\n",
    "\n",
    "set1.clear()\n",
    "print(\"Set1: \",set1) # since set1 is empty it will give set() as an output\n"
   ]
  },
  {
   "cell_type": "markdown",
   "id": "9c643dbd-132a-4bff-aea9-64f4bd7988a2",
   "metadata": {},
   "source": [
    "#### Q4 Update the first set with items that don't exist in the second set. s1={150,200,400} s2={200,750,650} Expected output: s1={150,40} 0}"
   ]
  },
  {
   "cell_type": "code",
   "execution_count": 24,
   "id": "83bb8623-5a1a-44a7-8568-482ce27aa8b5",
   "metadata": {},
   "outputs": [
    {
     "name": "stdout",
     "output_type": "stream",
     "text": [
      "{400, 150}\n"
     ]
    }
   ],
   "source": [
    "s1={150,200,400}\n",
    "s2={200,750,650}\n",
    "s1.difference_update(s2)\n",
    "print(s1)"
   ]
  },
  {
   "cell_type": "markdown",
   "id": "d2a309b1-9ead-47b4-8473-c51b4ec746f0",
   "metadata": {},
   "source": [
    "#### Q5 Define a set S = {apple, banana, cherry, orange}. Use Python set methods to add a new fruit 'grape' to S, remove 'banana' from S, and check the length of S"
   ]
  },
  {
   "cell_type": "code",
   "execution_count": 25,
   "id": "c57fff7e-4ad8-4b90-a77c-b53c37c537de",
   "metadata": {},
   "outputs": [
    {
     "name": "stdout",
     "output_type": "stream",
     "text": [
      "{'orange', 'cherry', 'grape', 'apple'}\n",
      "4\n"
     ]
    }
   ],
   "source": [
    "S = {'apple', 'banana', 'cherry', 'orange'}\n",
    "S.add('grape')\n",
    "S.remove('banana')\n",
    "print(S,len(S),sep='\\n')"
   ]
  },
  {
   "cell_type": "markdown",
   "id": "6efeaee4-e1da-406f-9adb-5734eda42194",
   "metadata": {},
   "source": [
    "#### Q6  dict = {“name1_marks” : [34,56,87,89], “name2_marks” : [78,98,54,34], “name3_marks” : [87,65,97,90]} add the marks 97 in “name1_marks”. Expected output : {“name1_marks” : [34,56,87,89, 97], “name2_marks” : [78,98,54,34], “name3_marks” : [87,65,97,90]}"
   ]
  },
  {
   "cell_type": "code",
   "execution_count": 27,
   "id": "2785c5eb-2c6a-42fa-9435-039cc6651c91",
   "metadata": {},
   "outputs": [
    {
     "name": "stdout",
     "output_type": "stream",
     "text": [
      "{'name1_marks': [34, 56, 87, 89, 97], 'name2_marks': [78, 98, 54, 34], 'name3_marks': [87, 65, 97, 90]}\n"
     ]
    }
   ],
   "source": [
    "dict1 = {\"name1_marks\" : [34,56,87,89], \"name2_marks\": [78,98,54,34], \"name3_marks\" : [87,65,97,90]}\n",
    "dict1[\"name1_marks\"].append(97)\n",
    "print(dict1)"
   ]
  },
  {
   "cell_type": "code",
   "execution_count": null,
   "id": "55874c98-e894-40f0-ba13-29edae7ec695",
   "metadata": {},
   "outputs": [],
   "source": []
  }
 ],
 "metadata": {
  "kernelspec": {
   "display_name": "Python 3 (ipykernel)",
   "language": "python",
   "name": "python3"
  },
  "language_info": {
   "codemirror_mode": {
    "name": "ipython",
    "version": 3
   },
   "file_extension": ".py",
   "mimetype": "text/x-python",
   "name": "python",
   "nbconvert_exporter": "python",
   "pygments_lexer": "ipython3",
   "version": "3.12.7"
  }
 },
 "nbformat": 4,
 "nbformat_minor": 5
}
