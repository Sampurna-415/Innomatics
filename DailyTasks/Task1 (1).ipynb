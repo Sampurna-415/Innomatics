{
 "cells": [
  {
   "cell_type": "markdown",
   "id": "6e65f2cc-197b-4b7e-8b70-f136c6a6d33b",
   "metadata": {},
   "source": [
    "### Query1"
   ]
  },
  {
   "cell_type": "code",
   "execution_count": 2,
   "id": "42e06cce-006b-46c2-bc3a-e52d3561c6b5",
   "metadata": {},
   "outputs": [
    {
     "name": "stdout",
     "output_type": "stream",
     "text": [
      "12 5\n"
     ]
    }
   ],
   "source": [
    "a=12\n",
    "b=5\n",
    "print(a,b)"
   ]
  },
  {
   "cell_type": "code",
   "execution_count": 7,
   "id": "bea03bd5-1db3-4803-8d30-d88de6af1cfa",
   "metadata": {},
   "outputs": [
    {
     "name": "stdout",
     "output_type": "stream",
     "text": [
      "17\n",
      "7\n",
      "60\n",
      "2.4\n",
      "2\n"
     ]
    }
   ],
   "source": [
    "print(a+b)\n",
    "print(a-b)\n",
    "print(a*b)\n",
    "print(a/b)\n",
    "print(a%b)"
   ]
  },
  {
   "cell_type": "markdown",
   "id": "fa2168cd-f260-4f2d-89c0-8f5f7158b07d",
   "metadata": {},
   "source": [
    "### Query2"
   ]
  },
  {
   "cell_type": "code",
   "execution_count": 8,
   "id": "ce7236ff-1873-414b-b9f6-546490b8981e",
   "metadata": {},
   "outputs": [
    {
     "name": "stdout",
     "output_type": "stream",
     "text": [
      "10\n"
     ]
    }
   ],
   "source": [
    "add=8+2\n",
    "print(add)"
   ]
  },
  {
   "cell_type": "code",
   "execution_count": 10,
   "id": "2ffe2216-cead-4e2e-9ec9-a61c5e550616",
   "metadata": {},
   "outputs": [
    {
     "name": "stdout",
     "output_type": "stream",
     "text": [
      "2\n"
     ]
    }
   ],
   "source": [
    "sub=3-1\n",
    "print(sub)"
   ]
  },
  {
   "cell_type": "code",
   "execution_count": 11,
   "id": "b3d3500c-1865-4dcf-9ffa-6601fc03ff6c",
   "metadata": {},
   "outputs": [
    {
     "name": "stdout",
     "output_type": "stream",
     "text": [
      "4\n"
     ]
    }
   ],
   "source": [
    "pow=(sub)**2\n",
    "print(pow)"
   ]
  },
  {
   "cell_type": "code",
   "execution_count": 12,
   "id": "f0064713-8ade-4b93-af26-4c74267be136",
   "metadata": {},
   "outputs": [
    {
     "name": "stdout",
     "output_type": "stream",
     "text": [
      "40\n"
     ]
    }
   ],
   "source": [
    "mul=add*pow\n",
    "print(mul)"
   ]
  },
  {
   "cell_type": "code",
   "execution_count": 13,
   "id": "78fc57e1-4cd2-4d1e-82e6-1d10d4045f72",
   "metadata": {},
   "outputs": [
    {
     "name": "stdout",
     "output_type": "stream",
     "text": [
      "20.0\n"
     ]
    }
   ],
   "source": [
    "div=mul/2\n",
    "print(div)\n"
   ]
  },
  {
   "cell_type": "code",
   "execution_count": 14,
   "id": "bcb009fb-b2fb-401b-92f6-227a0e562db4",
   "metadata": {},
   "outputs": [
    {
     "name": "stdout",
     "output_type": "stream",
     "text": [
      "20.0\n"
     ]
    }
   ],
   "source": [
    "## final result\n",
    "print((8+2)*(3-1)**2/2)"
   ]
  },
  {
   "cell_type": "markdown",
   "id": "23742550-e5ea-46b8-860b-e366a43d93ee",
   "metadata": {},
   "source": [
    "### Query3"
   ]
  },
  {
   "cell_type": "code",
   "execution_count": 15,
   "id": "a7f38b34-ff42-4c3b-b2e9-86263e039d27",
   "metadata": {},
   "outputs": [
    {
     "name": "stdout",
     "output_type": "stream",
     "text": [
      "AND- False \n",
      "OR- True \n",
      "NOT- False\n"
     ]
    }
   ],
   "source": [
    "p,q,r=True,False,True\n",
    "print(\"AND-\",p and q,\"\\nOR-\",p or q,\"\\nNOT-\",not r)"
   ]
  },
  {
   "cell_type": "markdown",
   "id": "b3d12dd2-2b2a-463f-9182-804e472c4518",
   "metadata": {},
   "source": [
    "### Query4"
   ]
  },
  {
   "cell_type": "code",
   "execution_count": 16,
   "id": "65783c2f-c0c5-4171-964f-19238b81f976",
   "metadata": {},
   "outputs": [
    {
     "name": "stdout",
     "output_type": "stream",
     "text": [
      "25\n"
     ]
    }
   ],
   "source": [
    "# Exponentiation (**) has the highest precendence,so it is calculated first\n",
    "expo=5**2\n",
    "print(expo)"
   ]
  },
  {
   "cell_type": "code",
   "execution_count": 17,
   "id": "1373cc7f-86e2-480a-a96a-500f5b1cd2c1",
   "metadata": {},
   "outputs": [
    {
     "name": "stdout",
     "output_type": "stream",
     "text": [
      "6\n"
     ]
    }
   ],
   "source": [
    "# Multiplication (*) is next in precendence ,so we calculate 2*3\n",
    "mul=2*3\n",
    "print(mul)"
   ]
  },
  {
   "cell_type": "code",
   "execution_count": 18,
   "id": "dc2f8bd7-bb17-419c-b9c3-7f860b9bcb71",
   "metadata": {},
   "outputs": [
    {
     "name": "stdout",
     "output_type": "stream",
     "text": [
      "1.5\n"
     ]
    }
   ],
   "source": [
    "# Division (/) is performed next,usng the result of mul(2*3)\n",
    "div=mul / 4\n",
    "print(div)\n"
   ]
  },
  {
   "cell_type": "code",
   "execution_count": 19,
   "id": "fb040fb6-ffc9-4b67-8b12-724ac29c3721",
   "metadata": {},
   "outputs": [
    {
     "name": "stdout",
     "output_type": "stream",
     "text": [
      "11.5\n"
     ]
    }
   ],
   "source": [
    "# Addition (+) and Subtraction (-) are next ,evaluted from left to right\n",
    "# We use result of div (mul/4) for addition\n",
    "add=10+div\n",
    "print(add)"
   ]
  },
  {
   "cell_type": "code",
   "execution_count": 20,
   "id": "c36a639c-d375-4fcd-b176-a8827facf472",
   "metadata": {},
   "outputs": [
    {
     "name": "stdout",
     "output_type": "stream",
     "text": [
      "Evalution result: -13.5\n"
     ]
    }
   ],
   "source": [
    "# Finally we subtract expo from add \n",
    "sub=add-expo\n",
    "print(\"Evalution result:\",sub)"
   ]
  },
  {
   "cell_type": "code",
   "execution_count": 21,
   "id": "fe19e0c9-21d6-49e6-9809-362bd30b5ef7",
   "metadata": {},
   "outputs": [
    {
     "name": "stdout",
     "output_type": "stream",
     "text": [
      "Actual Result: -13.5\n"
     ]
    }
   ],
   "source": [
    "# print the expression directly to know the actual result\n",
    "print(\"Actual Result:\",10 + 2 * 3 / 4 - 5 ** 2)"
   ]
  },
  {
   "cell_type": "markdown",
   "id": "325bfc86-c594-4598-8491-1607607b0f82",
   "metadata": {},
   "source": [
    "### Query5"
   ]
  },
  {
   "cell_type": "code",
   "execution_count": 26,
   "id": "a51df825-c1ab-477b-a0d5-c642eaa5cf8a",
   "metadata": {},
   "outputs": [
    {
     "name": "stdout",
     "output_type": "stream",
     "text": [
      "revolves\n",
      "sun\n",
      "ma\n"
     ]
    }
   ],
   "source": [
    "string=\"Earth revolves around the sun\"\n",
    "print(string[6:14], string[-3:], sep = \"\\n\")\n",
    "string2=\"Innomatics\"\n",
    "print(string2[len(string2) // 2 -1 : (len(string2) // 2) + 1])"
   ]
  },
  {
   "cell_type": "markdown",
   "id": "e40881b9-8fe3-4126-8458-0ff55075d894",
   "metadata": {},
   "source": [
    "### Query6"
   ]
  },
  {
   "cell_type": "code",
   "execution_count": 27,
   "id": "ff249325-40ba-40fe-bed5-81e6b4d6f500",
   "metadata": {},
   "outputs": [
    {
     "name": "stdout",
     "output_type": "stream",
     "text": [
      "Hiy\n"
     ]
    }
   ],
   "source": [
    "input=\"Holiday\"\n",
    "print(input[0::len(input)//2])"
   ]
  },
  {
   "cell_type": "markdown",
   "id": "c0b35874-3c82-4d8c-bdd6-b2f40ed87346",
   "metadata": {},
   "source": [
    "### Query7"
   ]
  },
  {
   "cell_type": "code",
   "execution_count": 28,
   "id": "2f0263f0-310a-4328-848b-3108fb66d155",
   "metadata": {},
   "outputs": [
    {
     "name": "stdout",
     "output_type": "stream",
     "text": [
      "Upper: HELLO\n"
     ]
    }
   ],
   "source": [
    "text=\"Hello\"\n",
    "print(\"Upper:\",text.upper())"
   ]
  },
  {
   "cell_type": "code",
   "execution_count": 29,
   "id": "a13abd85-5042-45a6-a609-dcb5f672814a",
   "metadata": {},
   "outputs": [
    {
     "name": "stdout",
     "output_type": "stream",
     "text": [
      "Lower: hello\n"
     ]
    }
   ],
   "source": [
    "print(\"Lower:\",text.lower())"
   ]
  },
  {
   "cell_type": "code",
   "execution_count": 30,
   "id": "dcd70612-67f2-47a4-85a8-93714478449e",
   "metadata": {},
   "outputs": [
    {
     "name": "stdout",
     "output_type": "stream",
     "text": [
      "Strip: Hello\n",
      "Right strip: Hello\n",
      "Left strip: Hello\n",
      "Length: 5\n",
      "Find substring 15\n"
     ]
    }
   ],
   "source": [
    "text2=\"   Hello   \"\n",
    "print(\"Strip:\",text.strip())\n",
    "print(\"Right strip:\",text.rstrip())\n",
    "print(\"Left strip:\",text.lstrip())\n",
    "print(\"Length:\",len(text))\n",
    "print(\"Find substring\",string.find(\"around\"))"
   ]
  },
  {
   "cell_type": "markdown",
   "id": "0fa401f1-c884-423f-9d55-fdb88b2ca9c8",
   "metadata": {},
   "source": [
    "### Query8"
   ]
  },
  {
   "cell_type": "code",
   "execution_count": 34,
   "id": "02b9beb8-587f-4655-bb50-732ed22c3784",
   "metadata": {},
   "outputs": [
    {
     "name": "stdout",
     "output_type": "stream",
     "text": [
      "Give papa a cup of proper coffee in a copper coffee cup\n"
     ]
    }
   ],
   "source": [
    "sentence=\"Give papa a cup of proper coffee in a copper coffee cup\"\n",
    "print(sentence)"
   ]
  },
  {
   "cell_type": "code",
   "execution_count": 35,
   "id": "921f898f-46ed-4c7c-8a35-4be150f7771c",
   "metadata": {},
   "outputs": [
    {
     "name": "stdout",
     "output_type": "stream",
     "text": [
      "after replacement: Give papa a cup of proper tea in a copper tea cup\n"
     ]
    }
   ],
   "source": [
    "# replace all occurrences of \"coffee\"with \"tea\"\n",
    "print(\"after replacement:\",sentence.replace(\"coffee\",\"tea\"))"
   ]
  },
  {
   "cell_type": "code",
   "execution_count": 36,
   "id": "0886b72e-753f-41d6-8bcd-0aa15d09d18c",
   "metadata": {},
   "outputs": [
    {
     "name": "stdout",
     "output_type": "stream",
     "text": [
      "Starts with 'Hello': False\n",
      "Ends with 'cup': True\n"
     ]
    }
   ],
   "source": [
    "#check if   the sentence starts with \"Hello\" and ends with \"cup\"\n",
    "print(\"Starts with 'Hello':\",sentence.startswith(\"Hello\"))\n",
    "print(\"Ends with 'cup':\",sentence.endswith(\"cup\"))"
   ]
  },
  {
   "cell_type": "code",
   "execution_count": 39,
   "id": "480fcdc9-b350-44bd-8e2f-08d4f1891624",
   "metadata": {},
   "outputs": [
    {
     "name": "stdout",
     "output_type": "stream",
     "text": [
      "Title Case: Give Papa A Cup Of Proper Coffee In A Copper Coffee Cup\n"
     ]
    }
   ],
   "source": [
    "# convert the sentence to title case\n",
    "print(\"Title Case:\",sentence.title())"
   ]
  },
  {
   "cell_type": "code",
   "execution_count": 41,
   "id": "a3f07fe3-d6f1-4824-b181-13ef3e89051a",
   "metadata": {},
   "outputs": [
    {
     "name": "stdout",
     "output_type": "stream",
     "text": [
      "Capital Case: Give papa a cup of proper coffee in a copper coffee cup\n"
     ]
    }
   ],
   "source": [
    "# convert the sentence to capital case\n",
    "print(\"Capital Case:\",sentence.capitalize())"
   ]
  },
  {
   "cell_type": "code",
   "execution_count": null,
   "id": "c1646ec0-a4d4-4d6b-96f3-73f4494441c1",
   "metadata": {},
   "outputs": [],
   "source": []
  }
 ],
 "metadata": {
  "kernelspec": {
   "display_name": "Python 3 (ipykernel)",
   "language": "python",
   "name": "python3"
  },
  "language_info": {
   "codemirror_mode": {
    "name": "ipython",
    "version": 3
   },
   "file_extension": ".py",
   "mimetype": "text/x-python",
   "name": "python",
   "nbconvert_exporter": "python",
   "pygments_lexer": "ipython3",
   "version": "3.12.7"
  }
 },
 "nbformat": 4,
 "nbformat_minor": 5
}
