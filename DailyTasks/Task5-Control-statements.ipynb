{
 "cells": [
  {
   "cell_type": "markdown",
   "id": "e4653bfe-c968-47f6-96b0-80368e650041",
   "metadata": {},
   "source": [
    "#### Q1 Write a Python program that asks the user for their age and prints \"You are an adult\" if the age is 18 or older; otherwise, it prints \"You are a minor’’.\n"
   ]
  },
  {
   "cell_type": "code",
   "execution_count": 5,
   "id": "64012ab8-b411-4c9d-bc66-da3e220f0bfe",
   "metadata": {},
   "outputs": [
    {
     "name": "stdin",
     "output_type": "stream",
     "text": [
      "Enter Your age 10\n"
     ]
    },
    {
     "name": "stdout",
     "output_type": "stream",
     "text": [
      "You are a minor\n"
     ]
    }
   ],
   "source": [
    "a = int(input(\"Enter Your age\"))\n",
    "if(a>=18):\n",
    "    print(\"You are an adult\")\n",
    "else:\n",
    "    print(\"You are a minor\")\n",
    "    "
   ]
  },
  {
   "cell_type": "markdown",
   "id": "b68c82e2-f4ed-4517-8ae9-3269c412163d",
   "metadata": {},
   "source": [
    "#### Q2 Write a program that takes a numerical grade (out of 100) as input and prints the corresponding letter grade according to the following scale:\n",
    "- 90-100: A\n",
    "- 80-89: B\n",
    "- 70-79: C\n",
    "- 60-69: D\n",
    "- Below 60: F\n"
   ]
  },
  {
   "cell_type": "code",
   "execution_count": 9,
   "id": "184e7a65-ad4f-456b-8a9c-8a4f7195f104",
   "metadata": {},
   "outputs": [
    {
     "name": "stdin",
     "output_type": "stream",
     "text": [
      "Enter Marks 95\n"
     ]
    },
    {
     "name": "stdout",
     "output_type": "stream",
     "text": [
      "Your Grade is A\n"
     ]
    }
   ],
   "source": [
    "a = int(input(\"Enter Marks\"))\n",
    "if(a>=90 and a<=100):\n",
    "    print(\"Your Grade is A\")\n",
    "elif(a>=80 and a<=90):\n",
    "    print(\"Your Grade is B\")\n",
    "elif(a>=70 and a<=80):\n",
    "    ptint(\"your Grade is C\")\n",
    "elif(a>=60 and a<=70):\n",
    "    print(\"Your Grade is D\")\n",
    "else:\n",
    "    print(\"falied\")"
   ]
  },
  {
   "cell_type": "markdown",
   "id": "ed8c9b90-6048-43d7-853c-ef75cbc01665",
   "metadata": {},
   "source": [
    "#### Q3 Write a program that asks the user for three numbers and prints the maximum of the three.\n"
   ]
  },
  {
   "cell_type": "code",
   "execution_count": 37,
   "id": "cecedacc-2cd4-418b-85e7-2fd64ab58fb3",
   "metadata": {},
   "outputs": [
    {
     "name": "stdin",
     "output_type": "stream",
     "text": [
      "Enter the number 1:  10\n",
      "Enter the number 2:  13\n",
      "Enter the number 3:  30\n"
     ]
    },
    {
     "name": "stdout",
     "output_type": "stream",
     "text": [
      "30 is the maximum number\n"
     ]
    }
   ],
   "source": [
    "n1 = int(input(\"Enter the number 1: \"))\n",
    "n2 = int(input(\"Enter the number 2: \"))\n",
    "n3 = int(input(\"Enter the number 3: \"))\n",
    "if n1 > n2 and n1 > n3:\n",
    "  print(f\"{n1} is the maximum number\")\n",
    "elif n2 > n1 and n2 > n3:\n",
    "  print(f\"{n2} is the maximum number\")\n",
    "else:\n",
    "  print(f\"{n3} is the maximum number\")"
   ]
  },
  {
   "cell_type": "markdown",
   "id": "2674ba57-703e-4d5f-b4c5-d97d11d72257",
   "metadata": {},
   "source": [
    "#### Q4 Write a program that asks the user for a temperature (in Celsius) and prints \"It's freezing\" if the temperature is below 0, \"It's cool\" if it's between 0 and 10, \"It's warm\" if it's between 10 and 20, and \"It's hot\" if it's above 20\n"
   ]
  },
  {
   "cell_type": "code",
   "execution_count": 19,
   "id": "69992146-6dfb-4e89-92cb-9b1af8742fbc",
   "metadata": {},
   "outputs": [
    {
     "name": "stdin",
     "output_type": "stream",
     "text": [
      "Enter temperature 10\n"
     ]
    },
    {
     "name": "stdout",
     "output_type": "stream",
     "text": [
      "Its warm\n"
     ]
    }
   ],
   "source": [
    "temp = int(input(\"Enter temperature\"))\n",
    "if(temp<0):\n",
    "    print(\"Its freezing\")\n",
    "elif(temp==0 and temp<=10):\n",
    "    print(\"Its Cool\")\n",
    "elif(temp>=10 and temp<=20):\n",
    "    print(\"Its warm\")\n",
    "elif(temp>=20):\n",
    "    print(\"Its Hot\")\n",
    "else:\n",
    "    print(\"Nothing\")\n"
   ]
  },
  {
   "cell_type": "markdown",
   "id": "9670a34d-924c-40c3-89b2-d3754482a21a",
   "metadata": {},
   "source": [
    "#### Q5 Write python Program for factorial of the give number"
   ]
  },
  {
   "cell_type": "code",
   "execution_count": 20,
   "id": "c49d117b-500a-4637-bba5-80d6e787976e",
   "metadata": {},
   "outputs": [
    {
     "name": "stdin",
     "output_type": "stream",
     "text": [
      "enter a number 5\n"
     ]
    },
    {
     "name": "stdout",
     "output_type": "stream",
     "text": [
      "Factorial of 5 is: 120\n"
     ]
    }
   ],
   "source": [
    "import math\n",
    "n = int(input(\"enter a number\"))\n",
    "if(n > 0):\n",
    "    print(f\"Factorial of {n} is:\", math.factorial(n))\n",
    "else:\n",
    "    print(\"Number should be a positive to find factorial\")\n"
   ]
  },
  {
   "cell_type": "markdown",
   "id": "0e576fb5-a384-43bc-8a9d-235d8a91ab5b",
   "metadata": {},
   "source": [
    "#### Q6 Write a program that asks the user for a number and prints \"In range\" if the number is between 10 and 20 (inclusive), and \"Out of range\" otherwise..\n"
   ]
  },
  {
   "cell_type": "code",
   "execution_count": 22,
   "id": "a9632224-a1ed-4566-8e25-8ddf0cb16c14",
   "metadata": {},
   "outputs": [
    {
     "name": "stdin",
     "output_type": "stream",
     "text": [
      "enter a number 25\n"
     ]
    },
    {
     "name": "stdout",
     "output_type": "stream",
     "text": [
      "Out of range\n"
     ]
    }
   ],
   "source": [
    "num = int(input(\"enter a number\"))\n",
    "if(num>=10 and num<=20):\n",
    "    print(\"In range\")\n",
    "else:\n",
    "    print(\"Out of range\")"
   ]
  },
  {
   "cell_type": "markdown",
   "id": "f85d4d6c-a6c6-4717-b9b6-ac22e8137247",
   "metadata": {},
   "source": [
    "#### Q7 Write a Python program to add 'ing' at the end of a given string (string length should be equal to or more than 3). If the given string already ends with 'ing' then add 'ly' instead.If the string length of the given string is less than 3, leave it unchanged\n"
   ]
  },
  {
   "cell_type": "code",
   "execution_count": 24,
   "id": "1ae73e5c-f59a-4bff-bd97-c1d672d3819a",
   "metadata": {},
   "outputs": [
    {
     "name": "stdin",
     "output_type": "stream",
     "text": [
      "Enter String dancing\n"
     ]
    },
    {
     "name": "stdout",
     "output_type": "stream",
     "text": [
      "dancingly\n"
     ]
    }
   ],
   "source": [
    "s = input(\"Enter String\")\n",
    "if(len(s)>=3):\n",
    "    if s.endswith(\"ing\"):\n",
    "        print(f\"{s}ly\")\n",
    "    else:\n",
    "        print(f\"{s}ing\")\n",
    "else:\n",
    "  print(s)"
   ]
  },
  {
   "cell_type": "markdown",
   "id": "1499cfcd-b090-4d0f-8d11-8062a73a8ab5",
   "metadata": {},
   "source": [
    "#### Q8 Manoj Kumar has family and friends. Help him remind them who is who. Given a string with a name, return the relation of that person to Manoj Kumar., Person Relation, Shiva father ,Letha mother, Tarun brother,Kavitha sister ,,Stranger.\n"
   ]
  },
  {
   "cell_type": "code",
   "execution_count": 25,
   "id": "7b2ce3da-411a-4561-8d70-f52eab0f2451",
   "metadata": {},
   "outputs": [
    {
     "name": "stdin",
     "output_type": "stream",
     "text": [
      "enter a name Shiva\n"
     ]
    },
    {
     "name": "stdout",
     "output_type": "stream",
     "text": [
      "Father\n"
     ]
    }
   ],
   "source": [
    "Name = input(\"enter a name\")\n",
    "if(Name.lower() == \"shiva\"):\n",
    "    print(\"Father\")\n",
    "elif(Name.lower() == \"letha\"):\n",
    "    print(\"Mother\")\n",
    "elif(Name.lower() == \"tarun\"):\n",
    "    print(\"Brother\")\n",
    "elif(Name.lower() == \"kavitha\"):\n",
    "    print(\"Sister\")\n",
    "else:\n",
    "    print(\"Stranger\")"
   ]
  },
  {
   "cell_type": "markdown",
   "id": "543a8ca2-8fec-4fea-86c5-2bfc8af426ae",
   "metadata": {},
   "source": [
    "#### Q9 Write a python program that takes in a word and determines whether or not it is   plural. A plural word is one that ends with “s”\n"
   ]
  },
  {
   "cell_type": "code",
   "execution_count": 27,
   "id": "a025f429-dc4e-4fa5-9056-e1cf911084ee",
   "metadata": {},
   "outputs": [
    {
     "name": "stdin",
     "output_type": "stream",
     "text": [
      "Enter the word:  girls\n"
     ]
    },
    {
     "name": "stdout",
     "output_type": "stream",
     "text": [
      "It's Plural\n"
     ]
    }
   ],
   "source": [
    "w1 = input(\"Enter the word: \")\n",
    "\n",
    "if w1[-1].lower() == 's':\n",
    "  print(\"It's Plural\")\n",
    "else:\n",
    "  print(\"It's not Plural\")"
   ]
  },
  {
   "cell_type": "markdown",
   "id": "676bdc3f-e001-4df0-bba7-2081c65d3790",
   "metadata": {},
   "source": [
    "#### Q10 A company decided to give a bonus of 5% to employees if his/her year of service is more than 5 years.Ask user for their salary and year of service and print the net bonus amount.\n"
   ]
  },
  {
   "cell_type": "code",
   "execution_count": 29,
   "id": "f61803db-5df2-4089-9716-e5cf7499bfae",
   "metadata": {},
   "outputs": [
    {
     "name": "stdin",
     "output_type": "stream",
     "text": [
      "Enter your salary:  35000\n",
      "Enter year of experience:  6\n"
     ]
    },
    {
     "name": "stdout",
     "output_type": "stream",
     "text": [
      "your bonus is :  1750.0\n"
     ]
    }
   ],
   "source": [
    "salary = int(input(\"Enter your salary: \"))\n",
    "year_of_exp = int(input(\"Enter year of experience: \"))\n",
    "\n",
    "if (year_of_exp > 5):\n",
    "    print(\"your bonus is : \",salary/100*5)"
   ]
  },
  {
   "cell_type": "markdown",
   "id": "c72f2b92-01d0-4f94-9b97-304dc3b924c8",
   "metadata": {},
   "source": [
    "#### Q11 Take values of length and breadth of a rectangle from the user and check if it is square or not."
   ]
  },
  {
   "cell_type": "code",
   "execution_count": 31,
   "id": "35358964-d254-4c7b-9253-75c70f751b50",
   "metadata": {},
   "outputs": [
    {
     "name": "stdin",
     "output_type": "stream",
     "text": [
      "Enter length 5\n",
      "Enter breadth 4\n"
     ]
    },
    {
     "name": "stdout",
     "output_type": "stream",
     "text": [
      "It is not a square\n"
     ]
    }
   ],
   "source": [
    "l = int(input(\"Enter length\"))\n",
    "b = int(input(\"Enter breadth\"))\n",
    "if(l == b):\n",
    "    print(\"It is a square\")\n",
    "else:\n",
    "    print(\"It is not a square\")"
   ]
  },
  {
   "cell_type": "markdown",
   "id": "a706f12c-31c9-4403-b08f-98705e3680f2",
   "metadata": {},
   "source": [
    "#### Q12 Write a program to check whether a person is eligible for voting or not  (voting age>=18).\n"
   ]
  },
  {
   "cell_type": "code",
   "execution_count": 32,
   "id": "3e6f5b27-8960-423d-8a17-88f7e2ea08f7",
   "metadata": {},
   "outputs": [
    {
     "name": "stdin",
     "output_type": "stream",
     "text": [
      "Enter age 18\n"
     ]
    },
    {
     "name": "stdout",
     "output_type": "stream",
     "text": [
      "person is eligible for voting\n"
     ]
    }
   ],
   "source": [
    "n = int(input(\"Enter age\"))\n",
    "if(n>=18):\n",
    "    print(\"person is eligible for voting\")\n",
    "else:\n",
    "    print(\"person is not eligible\")"
   ]
  },
  {
   "cell_type": "markdown",
   "id": "74c55b18-2785-41e6-89a6-9491d4156de0",
   "metadata": {},
   "source": [
    "#### Q13 Accept three sides of the triangle and check whether the triangle is possible or not.(Triangle is possible only when the sum of any two sides is greater than 3 rd side).\n"
   ]
  },
  {
   "cell_type": "code",
   "execution_count": 34,
   "id": "c479e40b-dd61-48fb-9cf8-5e2a1f85c704",
   "metadata": {},
   "outputs": [
    {
     "name": "stdin",
     "output_type": "stream",
     "text": [
      "Enter 1st side 6\n",
      "Enter 2nd side 4\n",
      "Enter 3rd side 14\n"
     ]
    },
    {
     "name": "stdout",
     "output_type": "stream",
     "text": [
      "Triangle is not possible\n"
     ]
    }
   ],
   "source": [
    "s1 = int(input(\"Enter 1st side\"))\n",
    "s2 = int(input(\"Enter 2nd side\"))\n",
    "s3 = int(input(\"Enter 3rd side\"))\n",
    "if((s1+s2)>s3):\n",
    "    print(\"Triangle is possible\")\n",
    "else:\n",
    "    print(\"Triangle is not possible\")"
   ]
  },
  {
   "cell_type": "markdown",
   "id": "a36c254a-0d80-4759-9a9d-458457bd697e",
   "metadata": {},
   "source": [
    "#### Q14 Write a Python program that prints all the numbers from  0 to 6 except 3 and 6.\n"
   ]
  },
  {
   "cell_type": "code",
   "execution_count": 35,
   "id": "012914dd-6e22-4dbc-a6f5-fd4fdca39866",
   "metadata": {},
   "outputs": [
    {
     "data": {
      "text/plain": [
       "[0, 1, 2, 4, 5]"
      ]
     },
     "execution_count": 35,
     "metadata": {},
     "output_type": "execute_result"
    }
   ],
   "source": [
    "num = list(range(7))\n",
    "num[0:3]+num[4:6]"
   ]
  },
  {
   "cell_type": "markdown",
   "id": "57ff71ca-ad79-4bc2-807f-32f006207a20",
   "metadata": {},
   "source": [
    "#### Q15 Take String and check whether the string is palindrome or not"
   ]
  },
  {
   "cell_type": "code",
   "execution_count": 36,
   "id": "12dead39-9d46-4ad0-b596-0ea1677cbb9a",
   "metadata": {},
   "outputs": [
    {
     "name": "stdin",
     "output_type": "stream",
     "text": [
      "Enter the str:  mom\n"
     ]
    },
    {
     "name": "stdout",
     "output_type": "stream",
     "text": [
      "It's Palindrome\n"
     ]
    }
   ],
   "source": [
    "str1 = input(\"Enter the str: \")\n",
    "str1 = str1.lower()\n",
    "if str1 == str1[::-1]:\n",
    "  print(\"It's Palindrome\")\n",
    "else:\n",
    "  print(\"It's not Palindrome\")\n"
   ]
  },
  {
   "cell_type": "code",
   "execution_count": null,
   "id": "ac1421ae-212a-4626-bdc0-07124812b946",
   "metadata": {},
   "outputs": [],
   "source": []
  }
 ],
 "metadata": {
  "kernelspec": {
   "display_name": "Python 3 (ipykernel)",
   "language": "python",
   "name": "python3"
  },
  "language_info": {
   "codemirror_mode": {
    "name": "ipython",
    "version": 3
   },
   "file_extension": ".py",
   "mimetype": "text/x-python",
   "name": "python",
   "nbconvert_exporter": "python",
   "pygments_lexer": "ipython3",
   "version": "3.12.7"
  }
 },
 "nbformat": 4,
 "nbformat_minor": 5
}
