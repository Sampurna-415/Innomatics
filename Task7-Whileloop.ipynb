{
 "cells": [
  {
   "cell_type": "markdown",
   "id": "5cc2d4e8-a840-49c6-9267-09fe13a5d09d",
   "metadata": {},
   "source": [
    "#### Q1 Calculate the product of numbers from 1 to 100 using a while loop."
   ]
  },
  {
   "cell_type": "code",
   "execution_count": 8,
   "id": "bbc76e82-3704-4f09-91a6-9018933245c1",
   "metadata": {},
   "outputs": [
    {
     "name": "stdout",
     "output_type": "stream",
     "text": [
      "The Product of Numbers from 1 to 100 is: 93326215443944152681699238856266700490715968264381621468592963895217599993229915608941463976156518286253697920827223758251185210916864000000000000000000000000\n"
     ]
    }
   ],
   "source": [
    "m=1\n",
    "n=1\n",
    "while m<=100:\n",
    "    n = n*m\n",
    "    m = m+1\n",
    "print(f\"The Product of Numbers from 1 to 100 is: {n}\")"
   ]
  },
  {
   "cell_type": "markdown",
   "id": "58c70e7d-3aba-4fc2-93cc-dfc285e7a65a",
   "metadata": {},
   "source": [
    "#### Q2 Write a program that will accept an integer input from the user.\n",
    "- Print the square of the number if the number is even\n",
    "- If the number is odd, print the message “num is odd. Enter an even number” and keep the loop going (i.e prompt for input again to accept an integer from the user). \n",
    "- If the user gives the number \"0\", then print \"Exited the program. Please try again later starting from number 1\" and the program should stop prompting for input.\n"
   ]
  },
  {
   "cell_type": "code",
   "execution_count": 9,
   "id": "329b028c-91dc-4589-8dcb-76167bdc4078",
   "metadata": {},
   "outputs": [
    {
     "name": "stdin",
     "output_type": "stream",
     "text": [
      "Enter a Number 2\n"
     ]
    },
    {
     "name": "stdout",
     "output_type": "stream",
     "text": [
      "square of a given number :4\n"
     ]
    },
    {
     "name": "stdin",
     "output_type": "stream",
     "text": [
      "Enter a Number 7\n"
     ]
    },
    {
     "name": "stdout",
     "output_type": "stream",
     "text": [
      "num is odd. Enter an even number\n"
     ]
    },
    {
     "name": "stdin",
     "output_type": "stream",
     "text": [
      "Enter a Number 0\n"
     ]
    },
    {
     "name": "stdout",
     "output_type": "stream",
     "text": [
      "Exited the program.\n"
     ]
    }
   ],
   "source": [
    "m = 1\n",
    "while m>=0:\n",
    "  a=int(input(\"Enter a Number\"))\n",
    "  if a==0:\n",
    "    print(\"Exited the program.\")\n",
    "    break\n",
    "  elif a%2==0:\n",
    "    print(f\"square of a given number :{a*a}\")\n",
    "  elif a%2 != 0:\n",
    "    print(\"num is odd. Enter an even number\")\n",
    "    m+=1"
   ]
  },
  {
   "cell_type": "markdown",
   "id": "4bf59922-c3f3-4ef7-a0b6-68a9f1beff17",
   "metadata": {},
   "source": [
    "#### Q3 Write a program that will demonstrate the countdown. So, the moment the count is 0, the program should print a message “Happy New Year ”.\n"
   ]
  },
  {
   "cell_type": "code",
   "execution_count": 11,
   "id": "5361f96d-9842-4725-95e5-1578a7058c38",
   "metadata": {},
   "outputs": [
    {
     "name": "stdout",
     "output_type": "stream",
     "text": [
      "5\n",
      "4\n",
      "3\n",
      "2\n",
      "1\n",
      "Happy New Year\n"
     ]
    }
   ],
   "source": [
    "i = 5\n",
    "while(i>0):\n",
    "    print(i)\n",
    "    i = i-1\n",
    "print(\"Happy New Year\")\n",
    "    "
   ]
  },
  {
   "cell_type": "code",
   "execution_count": null,
   "id": "59443b4d-7c19-4369-ace7-5d093d1246f4",
   "metadata": {},
   "outputs": [],
   "source": []
  }
 ],
 "metadata": {
  "kernelspec": {
   "display_name": "Python 3 (ipykernel)",
   "language": "python",
   "name": "python3"
  },
  "language_info": {
   "codemirror_mode": {
    "name": "ipython",
    "version": 3
   },
   "file_extension": ".py",
   "mimetype": "text/x-python",
   "name": "python",
   "nbconvert_exporter": "python",
   "pygments_lexer": "ipython3",
   "version": "3.12.7"
  }
 },
 "nbformat": 4,
 "nbformat_minor": 5
}
