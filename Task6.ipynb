{
 "cells": [
  {
   "cell_type": "markdown",
   "id": "adbc1869-0df7-4a4e-9133-dacff6479857",
   "metadata": {},
   "source": [
    "#### Q1 Write a program to accept a number from a user and  calculate the sum of all numbers from 1 to a given number."
   ]
  },
  {
   "cell_type": "code",
   "execution_count": 2,
   "id": "c25d79b7-00e0-4aaf-9e47-e6d82e54eb7b",
   "metadata": {},
   "outputs": [
    {
     "name": "stdin",
     "output_type": "stream",
     "text": [
      "Enter a number 5\n"
     ]
    },
    {
     "name": "stdout",
     "output_type": "stream",
     "text": [
      "15\n"
     ]
    }
   ],
   "source": [
    "num = int(input(\"Enter a number\"))\n",
    "sum = 0\n",
    "for i in range(1,num+1):\n",
    "    sum = sum + i\n",
    "print(sum)"
   ]
  },
  {
   "cell_type": "markdown",
   "id": "1669afdc-5eed-46b1-9862-81017620ddbf",
   "metadata": {},
   "source": [
    "#### Q2 write a program to convert only odd indexed characters to lowercase."
   ]
  },
  {
   "cell_type": "code",
   "execution_count": 3,
   "id": "520cf6ba-77a9-4787-991c-47f9c5991b74",
   "metadata": {},
   "outputs": [
    {
     "name": "stdout",
     "output_type": "stream",
     "text": [
      "pYtHoN PrOgRaM"
     ]
    }
   ],
   "source": [
    "str1 = 'PYTHON PROGRAM'\n",
    "for indx,val in enumerate(str1):\n",
    "    if (indx%2 != 0):\n",
    "        print(val,end='')\n",
    "    else:\n",
    "        print(val.lower(),end='')"
   ]
  },
  {
   "cell_type": "markdown",
   "id": "e614cede-beff-493b-8320-a4caff2a04c9",
   "metadata": {},
   "source": [
    "#### Q3 Write a python program which will print the sum of the two numbers if the two numbers are even or it will print the difference of two numbers."
   ]
  },
  {
   "cell_type": "code",
   "execution_count": 4,
   "id": "5a77f2d1-e9d4-4933-804b-613db5b284d9",
   "metadata": {},
   "outputs": [
    {
     "name": "stdin",
     "output_type": "stream",
     "text": [
      "Enter first number: 5\n",
      "Enter second number: 2\n"
     ]
    },
    {
     "name": "stdout",
     "output_type": "stream",
     "text": [
      "3 is the difference\n"
     ]
    }
   ],
   "source": [
    "num1 = int(input(\"Enter first number:\"))\n",
    "num2 = int(input(\"Enter second number:\"))\n",
    "\n",
    "if (num1 %2 == 0 and num2 %2 == 0):\n",
    "    print(num1+num2,'is the sum')\n",
    "else:\n",
    "    if(num2 > num1):\n",
    "        print(num2-num1,'is the difference')\n",
    "    else:\n",
    "        print(num1-num2,'is the difference')"
   ]
  },
  {
   "cell_type": "markdown",
   "id": "bd7f1063-38b0-42cb-bc21-63902f0f541f",
   "metadata": {},
   "source": [
    "#### Q4 Write a program to print a multiplication table of a given  number."
   ]
  },
  {
   "cell_type": "code",
   "execution_count": 5,
   "id": "284bce7e-2a77-4b7c-ba40-59bc0aed7aa3",
   "metadata": {},
   "outputs": [
    {
     "name": "stdin",
     "output_type": "stream",
     "text": [
      "Enter a number: 16\n"
     ]
    },
    {
     "name": "stdout",
     "output_type": "stream",
     "text": [
      "16 x 1 = 16\n",
      "16 x 2 = 32\n",
      "16 x 3 = 48\n",
      "16 x 4 = 64\n",
      "16 x 5 = 80\n",
      "16 x 6 = 96\n",
      "16 x 7 = 112\n",
      "16 x 8 = 128\n",
      "16 x 9 = 144\n",
      "16 x 10 = 160\n"
     ]
    }
   ],
   "source": [
    "num = int(input(\"Enter a number:\"))\n",
    "for i in range(1,11):\n",
    "    print(f\"{num} x {i} = {num*i}\")"
   ]
  },
  {
   "cell_type": "markdown",
   "id": "1d479837-44f7-4a37-aeb5-560b9b108604",
   "metadata": {},
   "source": [
    "#### Q5 Write a program to count the total number of digits in a  number."
   ]
  },
  {
   "cell_type": "code",
   "execution_count": 6,
   "id": "d45ab72c-407c-4cbd-843c-8894b73c9769",
   "metadata": {},
   "outputs": [
    {
     "name": "stdin",
     "output_type": "stream",
     "text": [
      "Enter a number: 23456\n"
     ]
    },
    {
     "name": "stdout",
     "output_type": "stream",
     "text": [
      "5\n"
     ]
    }
   ],
   "source": [
    "num = int(input(\"Enter a number:\"))\n",
    "count=0\n",
    "if (num==0):\n",
    "    count=1\n",
    "else:\n",
    "    while num > 0:\n",
    "        num //= 10  # Remove the last digit\n",
    "        count = count+1\n",
    "print(count)"
   ]
  },
  {
   "cell_type": "markdown",
   "id": "d109e129-b02a-43d4-aa27-95b3b3b2ff31",
   "metadata": {},
   "source": [
    "#### Q6 write a python program to create the total no of digits in a number .\n",
    "- For example the number is 75869 so the output should be 5.for  abcdef5678 the  output should be 4.\n",
    "\n"
   ]
  },
  {
   "cell_type": "code",
   "execution_count": 8,
   "id": "fa63112a-f678-407d-8461-28a9c0ea55bf",
   "metadata": {},
   "outputs": [
    {
     "name": "stdin",
     "output_type": "stream",
     "text": [
      "Enter a value abcdef5678\n"
     ]
    },
    {
     "name": "stdout",
     "output_type": "stream",
     "text": [
      "4\n"
     ]
    }
   ],
   "source": [
    "val = input('Enter a value')\n",
    "count = 0\n",
    "for i in val:\n",
    "    if i.isdigit():\n",
    "        count = count+1\n",
    "print(count)"
   ]
  },
  {
   "cell_type": "markdown",
   "id": "06f7e8f0-d0a1-4f8c-9a60-649be7652679",
   "metadata": {},
   "source": [
    "- Write a Python program which iterates the integers from 1 to 60. For multiples of three print \"Fizz\" instead of the number and for the multiples of five print \"Buzz”."
   ]
  },
  {
   "cell_type": "code",
   "execution_count": 10,
   "id": "93cba2dd-11b5-41c6-b96a-a5bc3f1e64fe",
   "metadata": {},
   "outputs": [
    {
     "name": "stdout",
     "output_type": "stream",
     "text": [
      "1\n",
      "2\n",
      "Fizz\n",
      "4\n",
      "Buzz\n",
      "Fizz\n",
      "7\n",
      "8\n",
      "Fizz\n",
      "Buzz\n",
      "11\n",
      "Fizz\n",
      "13\n",
      "14\n",
      "Fizz,Buzz\n",
      "16\n",
      "17\n",
      "Fizz\n",
      "19\n",
      "Buzz\n",
      "Fizz\n",
      "22\n",
      "23\n",
      "Fizz\n",
      "Buzz\n",
      "26\n",
      "Fizz\n",
      "28\n",
      "29\n",
      "Fizz,Buzz\n",
      "31\n",
      "32\n",
      "Fizz\n",
      "34\n",
      "Buzz\n",
      "Fizz\n",
      "37\n",
      "38\n",
      "Fizz\n",
      "Buzz\n",
      "41\n",
      "Fizz\n",
      "43\n",
      "44\n",
      "Fizz,Buzz\n",
      "46\n",
      "47\n",
      "Fizz\n",
      "49\n",
      "Buzz\n",
      "Fizz\n",
      "52\n",
      "53\n",
      "Fizz\n",
      "Buzz\n",
      "56\n",
      "Fizz\n",
      "58\n",
      "59\n",
      "Fizz,Buzz\n"
     ]
    }
   ],
   "source": [
    "for i in range(1,61):\n",
    "    if i%3 == 0 and i%5==0:\n",
    "        print(\"Fizz,Buzz\")\n",
    "    elif i%3 == 0:\n",
    "        print(\"Fizz\")\n",
    "    elif i%5 == 0:\n",
    "        print(\"Buzz\")\n",
    "    else:\n",
    "        print(i)"
   ]
  },
  {
   "cell_type": "markdown",
   "id": "d47e3803-03bc-4cda-b5cc-6dc8fef30a2a",
   "metadata": {},
   "source": [
    "#### Q7 Write a Python program that accepts a string and calculates the number of digits and letters.\n"
   ]
  },
  {
   "cell_type": "code",
   "execution_count": 11,
   "id": "4b2f8356-0c4d-4ba8-8ad8-e0423db99169",
   "metadata": {},
   "outputs": [
    {
     "name": "stdin",
     "output_type": "stream",
     "text": [
      "Enter a value: Sampurna1234\n"
     ]
    },
    {
     "name": "stdout",
     "output_type": "stream",
     "text": [
      "No of digits : 4 and no of letters : 8\n"
     ]
    }
   ],
   "source": [
    "val = input(\"Enter a value:\")\n",
    "letter,digit = 0,0\n",
    "for i in val:\n",
    "    if i.isalpha():\n",
    "        letter += 1\n",
    "    else:\n",
    "        digit += 1\n",
    "print(f\"No of digits : {digit} and no of letters : {letter}\")"
   ]
  },
  {
   "cell_type": "markdown",
   "id": "a048f76a-4d76-4dbd-93eb-5d42b9998e38",
   "metadata": {},
   "source": [
    "#### Q8 Write a Python program to check the validity of password input by users.Validation:\\n\",\n",
    "- At least 1 letter between [a-z] and 1 letter between [A-Z].,\n",
    "- At least 1 number between [0-9].,\n",
    "- At least 1 character from [$#@].,\n",
    "- Minimum length 6 characters.,Maximum length 16 characters.\n"
   ]
  },
  {
   "cell_type": "code",
   "execution_count": 12,
   "id": "68a3ab93-a32f-436a-ad49-93d10afa8b42",
   "metadata": {},
   "outputs": [
    {
     "name": "stdin",
     "output_type": "stream",
     "text": [
      "Enter password:  Sampu@123\n"
     ]
    },
    {
     "name": "stdout",
     "output_type": "stream",
     "text": [
      "Valid password\n"
     ]
    }
   ],
   "source": [
    "password = input(\"Enter password: \")\n",
    "lower, upper, digit, special = False, False, False, False\n",
    "\n",
    "if len(password) < 6 or len(password) > 16:\n",
    "    print(\"Invalid password: Must contain atleat 6 characters and atmost 18 characters\")\n",
    "else:\n",
    "    for i in password:\n",
    "        if i.islower():\n",
    "            lower = True\n",
    "        elif i.isupper():\n",
    "            upper = True\n",
    "        elif i.isdigit():\n",
    "            digit = True\n",
    "        elif i in ['$','#','@']:\n",
    "            special = True\n",
    "    if lower and upper and digit and special:\n",
    "            print(\"Valid password\")\n",
    "    else:\n",
    "        if lower == False:\n",
    "            print(\"Invalid password: Must contain atleast one lowercase letter\")\n",
    "        if upper == False:\n",
    "            print(\"Invalid password: Must contain atleast one uppercase letter\")\n",
    "        if digit == False:\n",
    "            print(\"Invalid password: Must contain atleast one digit\")\n",
    "        if special == False:\n",
    "            print(\"Invalid password: Must contain atleast one special character ($, #, or @)\")"
   ]
  },
  {
   "cell_type": "markdown",
   "id": "4347195a-a1df-4563-870e-3a1260573861",
   "metadata": {},
   "source": [
    "#### Q9 Write a program in Python to reverse a word by using while loop,for loop."
   ]
  },
  {
   "cell_type": "code",
   "execution_count": 13,
   "id": "c46c00de-26ac-44d8-bebc-2fc784ce58f0",
   "metadata": {},
   "outputs": [
    {
     "name": "stdout",
     "output_type": "stream",
     "text": [
      "olleH\n",
      "------------------------------------------------------------\n",
      "olleH\n"
     ]
    }
   ],
   "source": [
    "#using while loop\n",
    "word = 'Hello'\n",
    "rev = ''\n",
    "index = len(word)-1\n",
    "while index >= 0:\n",
    "    rev = rev + word[index]\n",
    "    index = index - 1\n",
    "print(rev)\n",
    "\n",
    "print('---'*20)\n",
    "\n",
    "#using for loop\n",
    "word = 'Hello'\n",
    "rev = ''\n",
    "for i in word:\n",
    "    rev = i + rev\n",
    "print(rev)"
   ]
  },
  {
   "cell_type": "markdown",
   "id": "fb32265f-f13c-4158-bc24-c5d784cd8ded",
   "metadata": {},
   "source": [
    "#### Q10 Write a program which takes 10 integers as input using loop and print their average value on the screen"
   ]
  },
  {
   "cell_type": "code",
   "execution_count": 14,
   "id": "174e2216-2aa2-413c-90f6-6d1c96267e05",
   "metadata": {},
   "outputs": [
    {
     "name": "stdin",
     "output_type": "stream",
     "text": [
      "enter a number: 1\n",
      "enter a number: 2\n",
      "enter a number: 3\n",
      "enter a number: 4\n",
      "enter a number: 5\n",
      "enter a number: 6\n",
      "enter a number: 7\n",
      "enter a number: 8\n",
      "enter a number: 9\n",
      "enter a number: 10\n"
     ]
    },
    {
     "name": "stdout",
     "output_type": "stream",
     "text": [
      "5.5 is the average\n"
     ]
    }
   ],
   "source": [
    "num = 0\n",
    "for i in range(1,11):\n",
    "    a = int(input(\"enter a number:\"))\n",
    "    num = num + a\n",
    "print(f'{num/10} is the average')"
   ]
  },
  {
   "cell_type": "code",
   "execution_count": null,
   "id": "8aa50f8d-6af2-476e-8e78-337b94539e2a",
   "metadata": {},
   "outputs": [],
   "source": []
  }
 ],
 "metadata": {
  "kernelspec": {
   "display_name": "Python 3 (ipykernel)",
   "language": "python",
   "name": "python3"
  },
  "language_info": {
   "codemirror_mode": {
    "name": "ipython",
    "version": 3
   },
   "file_extension": ".py",
   "mimetype": "text/x-python",
   "name": "python",
   "nbconvert_exporter": "python",
   "pygments_lexer": "ipython3",
   "version": "3.12.7"
  }
 },
 "nbformat": 4,
 "nbformat_minor": 5
}
